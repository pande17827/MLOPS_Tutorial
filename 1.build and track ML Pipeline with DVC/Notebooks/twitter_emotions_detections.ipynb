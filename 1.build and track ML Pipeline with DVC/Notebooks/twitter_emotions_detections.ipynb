{
 "cells": [
  {
   "cell_type": "markdown",
   "id": "49f20d40",
   "metadata": {},
   "source": [
    "## <b>Step1:-importing necessary libraries"
   ]
  },
  {
   "cell_type": "code",
   "execution_count": 62,
   "id": "11a7d33b",
   "metadata": {},
   "outputs": [],
   "source": [
    "import numpy as np\n",
    "import pandas as pd\n",
    "from sklearn.model_selection import train_test_split\n",
    "import re\n",
    "import nltk\n",
    "import string\n",
    "from nltk.corpus import stopwords\n",
    "from nltk.stem import SnowballStemmer,WordNetLemmatizer\n",
    "from sklearn.feature_extraction.text import CountVectorizer\n",
    "import xgboost as xgb\n",
    "from sklearn.metrics import accuracy_score,precision_score,recall_score,roc_auc_score,classification_report\n"
   ]
  },
  {
   "cell_type": "markdown",
   "id": "b64c5df9",
   "metadata": {},
   "source": [
    "## <b>Step2:-Data Ingestion"
   ]
  },
  {
   "cell_type": "code",
   "execution_count": 8,
   "id": "3666eddd",
   "metadata": {},
   "outputs": [],
   "source": [
    "df=pd.read_csv(\"https://raw.githubusercontent.com/entbappy/Branching-tutorial/refs/heads/master/tweet_emotions.csv\")\n",
    "df.to_csv(\"tweet_emotions.csv\")"
   ]
  },
  {
   "cell_type": "code",
   "execution_count": 9,
   "id": "df44164a",
   "metadata": {},
   "outputs": [
    {
     "data": {
      "text/html": [
       "<div>\n",
       "<style scoped>\n",
       "    .dataframe tbody tr th:only-of-type {\n",
       "        vertical-align: middle;\n",
       "    }\n",
       "\n",
       "    .dataframe tbody tr th {\n",
       "        vertical-align: top;\n",
       "    }\n",
       "\n",
       "    .dataframe thead th {\n",
       "        text-align: right;\n",
       "    }\n",
       "</style>\n",
       "<table border=\"1\" class=\"dataframe\">\n",
       "  <thead>\n",
       "    <tr style=\"text-align: right;\">\n",
       "      <th></th>\n",
       "      <th>tweet_id</th>\n",
       "      <th>sentiment</th>\n",
       "      <th>content</th>\n",
       "    </tr>\n",
       "  </thead>\n",
       "  <tbody>\n",
       "    <tr>\n",
       "      <th>0</th>\n",
       "      <td>1956967341</td>\n",
       "      <td>empty</td>\n",
       "      <td>@tiffanylue i know  i was listenin to bad habi...</td>\n",
       "    </tr>\n",
       "    <tr>\n",
       "      <th>1</th>\n",
       "      <td>1956967666</td>\n",
       "      <td>sadness</td>\n",
       "      <td>Layin n bed with a headache  ughhhh...waitin o...</td>\n",
       "    </tr>\n",
       "    <tr>\n",
       "      <th>2</th>\n",
       "      <td>1956967696</td>\n",
       "      <td>sadness</td>\n",
       "      <td>Funeral ceremony...gloomy friday...</td>\n",
       "    </tr>\n",
       "    <tr>\n",
       "      <th>3</th>\n",
       "      <td>1956967789</td>\n",
       "      <td>enthusiasm</td>\n",
       "      <td>wants to hang out with friends SOON!</td>\n",
       "    </tr>\n",
       "    <tr>\n",
       "      <th>4</th>\n",
       "      <td>1956968416</td>\n",
       "      <td>neutral</td>\n",
       "      <td>@dannycastillo We want to trade with someone w...</td>\n",
       "    </tr>\n",
       "  </tbody>\n",
       "</table>\n",
       "</div>"
      ],
      "text/plain": [
       "     tweet_id   sentiment                                            content\n",
       "0  1956967341       empty  @tiffanylue i know  i was listenin to bad habi...\n",
       "1  1956967666     sadness  Layin n bed with a headache  ughhhh...waitin o...\n",
       "2  1956967696     sadness                Funeral ceremony...gloomy friday...\n",
       "3  1956967789  enthusiasm               wants to hang out with friends SOON!\n",
       "4  1956968416     neutral  @dannycastillo We want to trade with someone w..."
      ]
     },
     "execution_count": 9,
     "metadata": {},
     "output_type": "execute_result"
    }
   ],
   "source": [
    "df.head()"
   ]
  },
  {
   "cell_type": "code",
   "execution_count": 22,
   "id": "11730833",
   "metadata": {},
   "outputs": [
    {
     "data": {
      "text/plain": [
       "(40000, 2)"
      ]
     },
     "execution_count": 22,
     "metadata": {},
     "output_type": "execute_result"
    }
   ],
   "source": [
    "df.shape"
   ]
  },
  {
   "cell_type": "code",
   "execution_count": 11,
   "id": "bf1737f1",
   "metadata": {},
   "outputs": [
    {
     "data": {
      "text/html": [
       "<div>\n",
       "<style scoped>\n",
       "    .dataframe tbody tr th:only-of-type {\n",
       "        vertical-align: middle;\n",
       "    }\n",
       "\n",
       "    .dataframe tbody tr th {\n",
       "        vertical-align: top;\n",
       "    }\n",
       "\n",
       "    .dataframe thead th {\n",
       "        text-align: right;\n",
       "    }\n",
       "</style>\n",
       "<table border=\"1\" class=\"dataframe\">\n",
       "  <thead>\n",
       "    <tr style=\"text-align: right;\">\n",
       "      <th></th>\n",
       "      <th>sentiment</th>\n",
       "      <th>content</th>\n",
       "    </tr>\n",
       "  </thead>\n",
       "  <tbody>\n",
       "    <tr>\n",
       "      <th>0</th>\n",
       "      <td>empty</td>\n",
       "      <td>@tiffanylue i know  i was listenin to bad habi...</td>\n",
       "    </tr>\n",
       "    <tr>\n",
       "      <th>1</th>\n",
       "      <td>sadness</td>\n",
       "      <td>Layin n bed with a headache  ughhhh...waitin o...</td>\n",
       "    </tr>\n",
       "    <tr>\n",
       "      <th>2</th>\n",
       "      <td>sadness</td>\n",
       "      <td>Funeral ceremony...gloomy friday...</td>\n",
       "    </tr>\n",
       "    <tr>\n",
       "      <th>3</th>\n",
       "      <td>enthusiasm</td>\n",
       "      <td>wants to hang out with friends SOON!</td>\n",
       "    </tr>\n",
       "    <tr>\n",
       "      <th>4</th>\n",
       "      <td>neutral</td>\n",
       "      <td>@dannycastillo We want to trade with someone w...</td>\n",
       "    </tr>\n",
       "  </tbody>\n",
       "</table>\n",
       "</div>"
      ],
      "text/plain": [
       "    sentiment                                            content\n",
       "0       empty  @tiffanylue i know  i was listenin to bad habi...\n",
       "1     sadness  Layin n bed with a headache  ughhhh...waitin o...\n",
       "2     sadness                Funeral ceremony...gloomy friday...\n",
       "3  enthusiasm               wants to hang out with friends SOON!\n",
       "4     neutral  @dannycastillo We want to trade with someone w..."
      ]
     },
     "execution_count": 11,
     "metadata": {},
     "output_type": "execute_result"
    }
   ],
   "source": [
    "df.drop(columns=['tweet_id'],inplace=True)\n",
    "df.head()"
   ]
  },
  {
   "cell_type": "code",
   "execution_count": 13,
   "id": "9c94d252",
   "metadata": {},
   "outputs": [
    {
     "data": {
      "text/plain": [
       "array(['empty', 'sadness', 'enthusiasm', 'neutral', 'worry', 'surprise',\n",
       "       'love', 'fun', 'hate', 'happiness', 'boredom', 'relief', 'anger'],\n",
       "      dtype=object)"
      ]
     },
     "execution_count": 13,
     "metadata": {},
     "output_type": "execute_result"
    }
   ],
   "source": [
    "df['sentiment'].unique()"
   ]
  },
  {
   "cell_type": "code",
   "execution_count": 14,
   "id": "e7e8b486",
   "metadata": {},
   "outputs": [
    {
     "data": {
      "text/plain": [
       "0        False\n",
       "1         True\n",
       "2         True\n",
       "3        False\n",
       "4        False\n",
       "         ...  \n",
       "39995    False\n",
       "39996    False\n",
       "39997    False\n",
       "39998     True\n",
       "39999    False\n",
       "Name: sentiment, Length: 40000, dtype: bool"
      ]
     },
     "execution_count": 14,
     "metadata": {},
     "output_type": "execute_result"
    }
   ],
   "source": [
    "df['sentiment'].isin(['happiness','sadness'])"
   ]
  },
  {
   "cell_type": "code",
   "execution_count": 17,
   "id": "5e871ee6",
   "metadata": {},
   "outputs": [
    {
     "data": {
      "text/html": [
       "<div>\n",
       "<style scoped>\n",
       "    .dataframe tbody tr th:only-of-type {\n",
       "        vertical-align: middle;\n",
       "    }\n",
       "\n",
       "    .dataframe tbody tr th {\n",
       "        vertical-align: top;\n",
       "    }\n",
       "\n",
       "    .dataframe thead th {\n",
       "        text-align: right;\n",
       "    }\n",
       "</style>\n",
       "<table border=\"1\" class=\"dataframe\">\n",
       "  <thead>\n",
       "    <tr style=\"text-align: right;\">\n",
       "      <th></th>\n",
       "      <th>sentiment</th>\n",
       "      <th>content</th>\n",
       "    </tr>\n",
       "  </thead>\n",
       "  <tbody>\n",
       "    <tr>\n",
       "      <th>1</th>\n",
       "      <td>sadness</td>\n",
       "      <td>Layin n bed with a headache  ughhhh...waitin o...</td>\n",
       "    </tr>\n",
       "    <tr>\n",
       "      <th>2</th>\n",
       "      <td>sadness</td>\n",
       "      <td>Funeral ceremony...gloomy friday...</td>\n",
       "    </tr>\n",
       "    <tr>\n",
       "      <th>6</th>\n",
       "      <td>sadness</td>\n",
       "      <td>I should be sleep, but im not! thinking about ...</td>\n",
       "    </tr>\n",
       "    <tr>\n",
       "      <th>8</th>\n",
       "      <td>sadness</td>\n",
       "      <td>@charviray Charlene my love. I miss you</td>\n",
       "    </tr>\n",
       "    <tr>\n",
       "      <th>9</th>\n",
       "      <td>sadness</td>\n",
       "      <td>@kelcouch I'm sorry  at least it's Friday?</td>\n",
       "    </tr>\n",
       "  </tbody>\n",
       "</table>\n",
       "</div>"
      ],
      "text/plain": [
       "  sentiment                                            content\n",
       "1   sadness  Layin n bed with a headache  ughhhh...waitin o...\n",
       "2   sadness                Funeral ceremony...gloomy friday...\n",
       "6   sadness  I should be sleep, but im not! thinking about ...\n",
       "8   sadness            @charviray Charlene my love. I miss you\n",
       "9   sadness         @kelcouch I'm sorry  at least it's Friday?"
      ]
     },
     "execution_count": 17,
     "metadata": {},
     "output_type": "execute_result"
    }
   ],
   "source": [
    "final_df=df[df['sentiment'].isin(['happiness','sadness'])]\n",
    "final_df.head()"
   ]
  },
  {
   "cell_type": "code",
   "execution_count": 19,
   "id": "95055d62",
   "metadata": {},
   "outputs": [
    {
     "data": {
      "text/plain": [
       "array(['sadness', 'happiness'], dtype=object)"
      ]
     },
     "execution_count": 19,
     "metadata": {},
     "output_type": "execute_result"
    }
   ],
   "source": [
    "final_df['sentiment'].unique()"
   ]
  },
  {
   "cell_type": "code",
   "execution_count": 23,
   "id": "c77cea50",
   "metadata": {},
   "outputs": [
    {
     "data": {
      "text/plain": [
       "(10374, 2)"
      ]
     },
     "execution_count": 23,
     "metadata": {},
     "output_type": "execute_result"
    }
   ],
   "source": [
    "final_df.shape"
   ]
  },
  {
   "cell_type": "code",
   "execution_count": 24,
   "id": "8a01ab40",
   "metadata": {},
   "outputs": [
    {
     "name": "stderr",
     "output_type": "stream",
     "text": [
      "C:\\Users\\pande\\AppData\\Local\\Temp\\ipykernel_5400\\3433959475.py:1: FutureWarning: Downcasting behavior in `replace` is deprecated and will be removed in a future version. To retain the old behavior, explicitly call `result.infer_objects(copy=False)`. To opt-in to the future behavior, set `pd.set_option('future.no_silent_downcasting', True)`\n",
      "  final_df['sentiment'].replace({'happiness':1,'sadness':0},inplace=True)\n",
      "C:\\Users\\pande\\AppData\\Local\\Temp\\ipykernel_5400\\3433959475.py:1: SettingWithCopyWarning: \n",
      "A value is trying to be set on a copy of a slice from a DataFrame\n",
      "\n",
      "See the caveats in the documentation: https://pandas.pydata.org/pandas-docs/stable/user_guide/indexing.html#returning-a-view-versus-a-copy\n",
      "  final_df['sentiment'].replace({'happiness':1,'sadness':0},inplace=True)\n"
     ]
    }
   ],
   "source": [
    "final_df['sentiment'].replace({'happiness':1,'sadness':0},inplace=True)"
   ]
  },
  {
   "cell_type": "code",
   "execution_count": 26,
   "id": "e8ab6a0c",
   "metadata": {},
   "outputs": [
    {
     "data": {
      "text/html": [
       "<div>\n",
       "<style scoped>\n",
       "    .dataframe tbody tr th:only-of-type {\n",
       "        vertical-align: middle;\n",
       "    }\n",
       "\n",
       "    .dataframe tbody tr th {\n",
       "        vertical-align: top;\n",
       "    }\n",
       "\n",
       "    .dataframe thead th {\n",
       "        text-align: right;\n",
       "    }\n",
       "</style>\n",
       "<table border=\"1\" class=\"dataframe\">\n",
       "  <thead>\n",
       "    <tr style=\"text-align: right;\">\n",
       "      <th></th>\n",
       "      <th>sentiment</th>\n",
       "      <th>content</th>\n",
       "    </tr>\n",
       "  </thead>\n",
       "  <tbody>\n",
       "    <tr>\n",
       "      <th>1</th>\n",
       "      <td>0</td>\n",
       "      <td>Layin n bed with a headache  ughhhh...waitin o...</td>\n",
       "    </tr>\n",
       "    <tr>\n",
       "      <th>2</th>\n",
       "      <td>0</td>\n",
       "      <td>Funeral ceremony...gloomy friday...</td>\n",
       "    </tr>\n",
       "    <tr>\n",
       "      <th>6</th>\n",
       "      <td>0</td>\n",
       "      <td>I should be sleep, but im not! thinking about ...</td>\n",
       "    </tr>\n",
       "    <tr>\n",
       "      <th>8</th>\n",
       "      <td>0</td>\n",
       "      <td>@charviray Charlene my love. I miss you</td>\n",
       "    </tr>\n",
       "    <tr>\n",
       "      <th>9</th>\n",
       "      <td>0</td>\n",
       "      <td>@kelcouch I'm sorry  at least it's Friday?</td>\n",
       "    </tr>\n",
       "  </tbody>\n",
       "</table>\n",
       "</div>"
      ],
      "text/plain": [
       "   sentiment                                            content\n",
       "1          0  Layin n bed with a headache  ughhhh...waitin o...\n",
       "2          0                Funeral ceremony...gloomy friday...\n",
       "6          0  I should be sleep, but im not! thinking about ...\n",
       "8          0            @charviray Charlene my love. I miss you\n",
       "9          0         @kelcouch I'm sorry  at least it's Friday?"
      ]
     },
     "execution_count": 26,
     "metadata": {},
     "output_type": "execute_result"
    }
   ],
   "source": [
    "final_df.head()"
   ]
  },
  {
   "cell_type": "code",
   "execution_count": 28,
   "id": "c6dd97a3",
   "metadata": {},
   "outputs": [
    {
     "data": {
      "text/plain": [
       "array([0, 1])"
      ]
     },
     "execution_count": 28,
     "metadata": {},
     "output_type": "execute_result"
    }
   ],
   "source": [
    "final_df['sentiment'].unique()"
   ]
  },
  {
   "cell_type": "code",
   "execution_count": 27,
   "id": "bbd29da2",
   "metadata": {},
   "outputs": [
    {
     "data": {
      "text/plain": [
       "(10374, 2)"
      ]
     },
     "execution_count": 27,
     "metadata": {},
     "output_type": "execute_result"
    }
   ],
   "source": [
    "final_df.shape"
   ]
  },
  {
   "cell_type": "code",
   "execution_count": 29,
   "id": "7af8e329",
   "metadata": {},
   "outputs": [],
   "source": [
    "train_data,test_data=train_test_split(final_df,test_size=0.2,random_state=4)"
   ]
  },
  {
   "cell_type": "code",
   "execution_count": 31,
   "id": "91fc45d5",
   "metadata": {},
   "outputs": [
    {
     "data": {
      "text/html": [
       "<div>\n",
       "<style scoped>\n",
       "    .dataframe tbody tr th:only-of-type {\n",
       "        vertical-align: middle;\n",
       "    }\n",
       "\n",
       "    .dataframe tbody tr th {\n",
       "        vertical-align: top;\n",
       "    }\n",
       "\n",
       "    .dataframe thead th {\n",
       "        text-align: right;\n",
       "    }\n",
       "</style>\n",
       "<table border=\"1\" class=\"dataframe\">\n",
       "  <thead>\n",
       "    <tr style=\"text-align: right;\">\n",
       "      <th></th>\n",
       "      <th>sentiment</th>\n",
       "      <th>content</th>\n",
       "    </tr>\n",
       "  </thead>\n",
       "  <tbody>\n",
       "    <tr>\n",
       "      <th>25824</th>\n",
       "      <td>0</td>\n",
       "      <td>@shonali hello- i'd like a little chat- but ca...</td>\n",
       "    </tr>\n",
       "    <tr>\n",
       "      <th>38684</th>\n",
       "      <td>0</td>\n",
       "      <td>Went shopping for sports tour yesterday with G...</td>\n",
       "    </tr>\n",
       "    <tr>\n",
       "      <th>10564</th>\n",
       "      <td>1</td>\n",
       "      <td>@Minicooperr yeahh! Ryland was amazing xD BUT ...</td>\n",
       "    </tr>\n",
       "    <tr>\n",
       "      <th>9525</th>\n",
       "      <td>0</td>\n",
       "      <td>the dog dug a hole in the backyard well iwas s...</td>\n",
       "    </tr>\n",
       "    <tr>\n",
       "      <th>24287</th>\n",
       "      <td>1</td>\n",
       "      <td>Went to see Priscilla Ahn last night, was amaz...</td>\n",
       "    </tr>\n",
       "  </tbody>\n",
       "</table>\n",
       "</div>"
      ],
      "text/plain": [
       "       sentiment                                            content\n",
       "25824          0  @shonali hello- i'd like a little chat- but ca...\n",
       "38684          0  Went shopping for sports tour yesterday with G...\n",
       "10564          1  @Minicooperr yeahh! Ryland was amazing xD BUT ...\n",
       "9525           0  the dog dug a hole in the backyard well iwas s...\n",
       "24287          1  Went to see Priscilla Ahn last night, was amaz..."
      ]
     },
     "execution_count": 31,
     "metadata": {},
     "output_type": "execute_result"
    }
   ],
   "source": [
    "train_data.head()"
   ]
  },
  {
   "cell_type": "code",
   "execution_count": 32,
   "id": "3868cad9",
   "metadata": {},
   "outputs": [
    {
     "data": {
      "text/plain": [
       "(8299, 2)"
      ]
     },
     "execution_count": 32,
     "metadata": {},
     "output_type": "execute_result"
    }
   ],
   "source": [
    "train_data.shape"
   ]
  },
  {
   "cell_type": "code",
   "execution_count": 33,
   "id": "dbb8f5d9",
   "metadata": {},
   "outputs": [
    {
     "data": {
      "text/html": [
       "<div>\n",
       "<style scoped>\n",
       "    .dataframe tbody tr th:only-of-type {\n",
       "        vertical-align: middle;\n",
       "    }\n",
       "\n",
       "    .dataframe tbody tr th {\n",
       "        vertical-align: top;\n",
       "    }\n",
       "\n",
       "    .dataframe thead th {\n",
       "        text-align: right;\n",
       "    }\n",
       "</style>\n",
       "<table border=\"1\" class=\"dataframe\">\n",
       "  <thead>\n",
       "    <tr style=\"text-align: right;\">\n",
       "      <th></th>\n",
       "      <th>sentiment</th>\n",
       "      <th>content</th>\n",
       "    </tr>\n",
       "  </thead>\n",
       "  <tbody>\n",
       "    <tr>\n",
       "      <th>37839</th>\n",
       "      <td>1</td>\n",
       "      <td>@GeekySteph also, try Friendly Fires if you ha...</td>\n",
       "    </tr>\n",
       "    <tr>\n",
       "      <th>5442</th>\n",
       "      <td>0</td>\n",
       "      <td>i need to get my life together aka my apartmen...</td>\n",
       "    </tr>\n",
       "    <tr>\n",
       "      <th>21094</th>\n",
       "      <td>1</td>\n",
       "      <td>@souravghosh Dreams give rise to reality. When...</td>\n",
       "    </tr>\n",
       "    <tr>\n",
       "      <th>28755</th>\n",
       "      <td>1</td>\n",
       "      <td>@lilcdawg its because we run on CPT!!!</td>\n",
       "    </tr>\n",
       "    <tr>\n",
       "      <th>6382</th>\n",
       "      <td>0</td>\n",
       "      <td>The computer at work hates me.  have to call t...</td>\n",
       "    </tr>\n",
       "  </tbody>\n",
       "</table>\n",
       "</div>"
      ],
      "text/plain": [
       "       sentiment                                            content\n",
       "37839          1  @GeekySteph also, try Friendly Fires if you ha...\n",
       "5442           0  i need to get my life together aka my apartmen...\n",
       "21094          1  @souravghosh Dreams give rise to reality. When...\n",
       "28755          1             @lilcdawg its because we run on CPT!!!\n",
       "6382           0  The computer at work hates me.  have to call t..."
      ]
     },
     "execution_count": 33,
     "metadata": {},
     "output_type": "execute_result"
    }
   ],
   "source": [
    "test_data.head()"
   ]
  },
  {
   "cell_type": "code",
   "execution_count": 34,
   "id": "c8359007",
   "metadata": {},
   "outputs": [
    {
     "data": {
      "text/plain": [
       "(2075, 2)"
      ]
     },
     "execution_count": 34,
     "metadata": {},
     "output_type": "execute_result"
    }
   ],
   "source": [
    "test_data.shape\n"
   ]
  },
  {
   "cell_type": "markdown",
   "id": "ab7003fa",
   "metadata": {},
   "source": [
    "## <b>Step3:-Data Preprocessing"
   ]
  },
  {
   "cell_type": "code",
   "execution_count": null,
   "id": "5706b103",
   "metadata": {},
   "outputs": [
    {
     "name": "stderr",
     "output_type": "stream",
     "text": [
      "[nltk_data] Downloading package wordnet to\n",
      "[nltk_data]     C:\\Users\\pande\\AppData\\Roaming\\nltk_data...\n",
      "[nltk_data] Downloading package stopwords to\n",
      "[nltk_data]     C:\\Users\\pande\\AppData\\Roaming\\nltk_data...\n",
      "[nltk_data]   Unzipping corpora\\stopwords.zip.\n"
     ]
    },
    {
     "data": {
      "text/plain": [
       "True"
      ]
     },
     "execution_count": 35,
     "metadata": {},
     "output_type": "execute_result"
    }
   ],
   "source": [
    "# nltk.download('wordnet')\n",
    "# nltk.download('stopwords')"
   ]
  },
  {
   "cell_type": "code",
   "execution_count": null,
   "id": "f5a975a9",
   "metadata": {},
   "outputs": [],
   "source": [
    "# def lemmatization(text):\n",
    "#     lemmatizer=WordNetLemmatizer()\n",
    "#     text=text.split()\n",
    "#     text=[lemmatizer.lemmatize(y) for y in text]\n",
    "#     return \" \".join(text)"
   ]
  },
  {
   "cell_type": "code",
   "execution_count": null,
   "id": "043613a9",
   "metadata": {},
   "outputs": [],
   "source": [
    "# def remove_stop_words(text):\n",
    "#     stop_words=set(stopwords.words(\"english\"))\n",
    "#     Text=[i for i in str(text).split() if i not in stop_words]\n",
    "#     return \" \".join(text)"
   ]
  },
  {
   "cell_type": "code",
   "execution_count": null,
   "id": "9e87d80b",
   "metadata": {},
   "outputs": [],
   "source": [
    "# def removing_numbers(text):\n",
    "#     text=''.join([i for i in text if not i.isdigit()])\n",
    "#     return text"
   ]
  },
  {
   "cell_type": "code",
   "execution_count": null,
   "id": "c1caee02",
   "metadata": {},
   "outputs": [],
   "source": [
    "# def lower_case(text):\n",
    "#     text=text.split()\n",
    "#     text=[y.lower() for y in text]\n",
    "#     return \" \".join(text)"
   ]
  },
  {
   "cell_type": "code",
   "execution_count": null,
   "id": "ebf147a3",
   "metadata": {},
   "outputs": [],
   "source": [
    "# import re\n",
    "\n",
    "# def removing_punctuations(text):\n",
    "#     # Define punctuations as a raw string\n",
    "#     punctuations = r\"\"\"!\"#$%&'()*+,،-./:;<=>؟?@[\\]^_`{|}~\"\"\"\n",
    "\n",
    "#     # Remove punctuations\n",
    "#     text = re.sub(r'[%s]' % re.escape(punctuations), ' ', text)\n",
    "#     text = text.replace('؛', \"\")\n",
    "\n",
    "#     # Remove extra whitespace\n",
    "#     text = re.sub(r'\\s+', ' ', text)\n",
    "#     text = \" \".join(text.split())\n",
    "\n",
    "#     return text.strip()\n"
   ]
  },
  {
   "cell_type": "code",
   "execution_count": null,
   "id": "5182212f",
   "metadata": {},
   "outputs": [],
   "source": [
    "# def removing_urls(text):\n",
    "#     url_pattern = re.compile(r'https?://\\S+|www\\.\\S+')\n",
    "#     return url_pattern.sub(r'', text)"
   ]
  },
  {
   "cell_type": "code",
   "execution_count": null,
   "id": "503946de",
   "metadata": {},
   "outputs": [],
   "source": [
    "# def normalize_text(df):\n",
    "#     df.content=df.content.apply(lambda content : lower_case(content))\n",
    "#     df.content=df.content.apply(lambda content : remove_stop_words(content))\n",
    "#     df.content=df.content.apply(lambda content : removing_numbers(content))\n",
    "#     df.content=df.content.apply(lambda content : removing_punctuations(content))\n",
    "#     df.content=df.content.apply(lambda content : removing_urls(content))\n",
    "#     df.content=df.content.apply(lambda content : lemmatization(content))\n",
    "#     return df"
   ]
  },
  {
   "cell_type": "code",
   "execution_count": null,
   "id": "d02c2129",
   "metadata": {},
   "outputs": [],
   "source": [
    "# def normalized_sentence(sentence):\n",
    "#     sentence= lower_case(sentence)\n",
    "#     sentence= remove_stop_words(sentence)\n",
    "#     sentence= removing_numbers(sentence)\n",
    "#     sentence= removing_punctuations(sentence)\n",
    "#     sentence= removing_urls(sentence)\n",
    "#     sentence= lemmatization(sentence)\n",
    "#     return sentence"
   ]
  },
  {
   "cell_type": "code",
   "execution_count": 51,
   "id": "117bf17e",
   "metadata": {},
   "outputs": [
    {
     "name": "stderr",
     "output_type": "stream",
     "text": [
      "<>:32: SyntaxWarning: invalid escape sequence '\\]'\n",
      "<>:36: SyntaxWarning: invalid escape sequence '\\s'\n",
      "<>:32: SyntaxWarning: invalid escape sequence '\\]'\n",
      "<>:36: SyntaxWarning: invalid escape sequence '\\s'\n",
      "C:\\Users\\pande\\AppData\\Local\\Temp\\ipykernel_5400\\2711691001.py:32: SyntaxWarning: invalid escape sequence '\\]'\n",
      "  text = re.sub('[%s]' % re.escape(\"\"\"!\"#$%&'()*+,،-./:;<=>؟?@[\\]^_`{|}~\"\"\"), ' ', text)\n",
      "C:\\Users\\pande\\AppData\\Local\\Temp\\ipykernel_5400\\2711691001.py:36: SyntaxWarning: invalid escape sequence '\\s'\n",
      "  text = re.sub('\\s+', ' ', text)\n",
      "[nltk_data] Downloading package wordnet to\n",
      "[nltk_data]     C:\\Users\\pande\\AppData\\Roaming\\nltk_data...\n",
      "[nltk_data]   Package wordnet is already up-to-date!\n",
      "[nltk_data] Downloading package stopwords to\n",
      "[nltk_data]     C:\\Users\\pande\\AppData\\Roaming\\nltk_data...\n",
      "[nltk_data]   Package stopwords is already up-to-date!\n"
     ]
    }
   ],
   "source": [
    "nltk.download('wordnet')\n",
    "nltk.download('stopwords')\n",
    "\n",
    "def lemmatization(text):\n",
    "    lemmatizer= WordNetLemmatizer()\n",
    "\n",
    "    text = text.split()\n",
    "\n",
    "    text=[lemmatizer.lemmatize(y) for y in text]\n",
    "\n",
    "    return \" \" .join(text)\n",
    "\n",
    "def remove_stop_words(text):\n",
    "    stop_words = set(stopwords.words(\"english\"))\n",
    "    Text=[i for i in str(text).split() if i not in stop_words]\n",
    "    return \" \".join(Text)\n",
    "\n",
    "def removing_numbers(text):\n",
    "    text=''.join([i for i in text if not i.isdigit()])\n",
    "    return text\n",
    "\n",
    "def lower_case(text):\n",
    "\n",
    "    text = text.split()\n",
    "\n",
    "    text=[y.lower() for y in text]\n",
    "\n",
    "    return \" \" .join(text)\n",
    "\n",
    "def removing_punctuations(text):\n",
    "    ## Remove punctuations\n",
    "    text = re.sub('[%s]' % re.escape(\"\"\"!\"#$%&'()*+,،-./:;<=>؟?@[\\]^_`{|}~\"\"\"), ' ', text)\n",
    "    text = text.replace('؛',\"\", )\n",
    "\n",
    "    ## remove extra whitespace\n",
    "    text = re.sub('\\s+', ' ', text)\n",
    "    text =  \" \".join(text.split())\n",
    "    return text.strip()\n",
    "\n",
    "def removing_urls(text):\n",
    "    url_pattern = re.compile(r'https?://\\S+|www\\.\\S+')\n",
    "    return url_pattern.sub(r'', text)\n",
    "\n",
    "def remove_small_sentences(df):\n",
    "    for i in range(len(df)):\n",
    "        if len(df.text.iloc[i].split()) < 3:\n",
    "            df.text.iloc[i] = np.nan\n",
    "\n",
    "def normalize_text(df):\n",
    "    df.content=df.content.apply(lambda content : lower_case(content))\n",
    "    df.content=df.content.apply(lambda content : remove_stop_words(content))\n",
    "    df.content=df.content.apply(lambda content : removing_numbers(content))\n",
    "    df.content=df.content.apply(lambda content : removing_punctuations(content))\n",
    "    df.content=df.content.apply(lambda content : removing_urls(content))\n",
    "    df.content=df.content.apply(lambda content : lemmatization(content))\n",
    "    return df\n",
    "\n",
    "def normalized_sentence(sentence):\n",
    "    sentence= lower_case(sentence)\n",
    "    sentence= remove_stop_words(sentence)\n",
    "    sentence= removing_numbers(sentence)\n",
    "    sentence= removing_punctuations(sentence)\n",
    "    sentence= removing_urls(sentence)\n",
    "    sentence= lemmatization(sentence)\n",
    "    return sentence"
   ]
  },
  {
   "cell_type": "code",
   "execution_count": 52,
   "id": "afcfbae8",
   "metadata": {},
   "outputs": [
    {
     "data": {
      "text/plain": [
       "'that s it done already one'"
      ]
     },
     "execution_count": 52,
     "metadata": {},
     "output_type": "execute_result"
    }
   ],
   "source": [
    "normalized_sentence(\"That's it? It's done already? This is one\")"
   ]
  },
  {
   "cell_type": "code",
   "execution_count": 53,
   "id": "dfa28f9d",
   "metadata": {},
   "outputs": [],
   "source": [
    "train_data = normalize_text(train_data)\n",
    "test_data = normalize_text(test_data)"
   ]
  },
  {
   "cell_type": "code",
   "execution_count": 54,
   "id": "38442834",
   "metadata": {},
   "outputs": [
    {
     "data": {
      "text/html": [
       "<div>\n",
       "<style scoped>\n",
       "    .dataframe tbody tr th:only-of-type {\n",
       "        vertical-align: middle;\n",
       "    }\n",
       "\n",
       "    .dataframe tbody tr th {\n",
       "        vertical-align: top;\n",
       "    }\n",
       "\n",
       "    .dataframe thead th {\n",
       "        text-align: right;\n",
       "    }\n",
       "</style>\n",
       "<table border=\"1\" class=\"dataframe\">\n",
       "  <thead>\n",
       "    <tr style=\"text-align: right;\">\n",
       "      <th></th>\n",
       "      <th>sentiment</th>\n",
       "      <th>content</th>\n",
       "    </tr>\n",
       "  </thead>\n",
       "  <tbody>\n",
       "    <tr>\n",
       "      <th>25824</th>\n",
       "      <td>0</td>\n",
       "      <td>shonali hello like little chat can t dm you ma...</td>\n",
       "    </tr>\n",
       "    <tr>\n",
       "      <th>38684</th>\n",
       "      <td>0</td>\n",
       "      <td>went shopping sport tour yesterday garley funn...</td>\n",
       "    </tr>\n",
       "    <tr>\n",
       "      <th>10564</th>\n",
       "      <td>1</td>\n",
       "      <td>minicooperr yeahh ryland amazing xd get hug bo...</td>\n",
       "    </tr>\n",
       "    <tr>\n",
       "      <th>9525</th>\n",
       "      <td>0</td>\n",
       "      <td>dog dug hole backyard well iwas sleeping im gr...</td>\n",
       "    </tr>\n",
       "    <tr>\n",
       "      <th>24287</th>\n",
       "      <td>1</td>\n",
       "      <td>went see priscilla ahn last night amazin band ...</td>\n",
       "    </tr>\n",
       "    <tr>\n",
       "      <th>...</th>\n",
       "      <td>...</td>\n",
       "      <td>...</td>\n",
       "    </tr>\n",
       "    <tr>\n",
       "      <th>1693</th>\n",
       "      <td>0</td>\n",
       "      <td>heavily medicated can t sleep ugh</td>\n",
       "    </tr>\n",
       "    <tr>\n",
       "      <th>22789</th>\n",
       "      <td>1</td>\n",
       "      <td>land pillow blanket mm fan high mention blanke...</td>\n",
       "    </tr>\n",
       "    <tr>\n",
       "      <th>2673</th>\n",
       "      <td>1</td>\n",
       "      <td>hilsatlvsonline thanks tip unfortunately major...</td>\n",
       "    </tr>\n",
       "    <tr>\n",
       "      <th>32155</th>\n",
       "      <td>1</td>\n",
       "      <td>hungraaaaaaaaay eat go away twitter whatchandr...</td>\n",
       "    </tr>\n",
       "    <tr>\n",
       "      <th>4430</th>\n",
       "      <td>0</td>\n",
       "      <td>finally finished exam amp home watch otalia am...</td>\n",
       "    </tr>\n",
       "  </tbody>\n",
       "</table>\n",
       "<p>8299 rows × 2 columns</p>\n",
       "</div>"
      ],
      "text/plain": [
       "       sentiment                                            content\n",
       "25824          0  shonali hello like little chat can t dm you ma...\n",
       "38684          0  went shopping sport tour yesterday garley funn...\n",
       "10564          1  minicooperr yeahh ryland amazing xd get hug bo...\n",
       "9525           0  dog dug hole backyard well iwas sleeping im gr...\n",
       "24287          1  went see priscilla ahn last night amazin band ...\n",
       "...          ...                                                ...\n",
       "1693           0                  heavily medicated can t sleep ugh\n",
       "22789          1  land pillow blanket mm fan high mention blanke...\n",
       "2673           1  hilsatlvsonline thanks tip unfortunately major...\n",
       "32155          1  hungraaaaaaaaay eat go away twitter whatchandr...\n",
       "4430           0  finally finished exam amp home watch otalia am...\n",
       "\n",
       "[8299 rows x 2 columns]"
      ]
     },
     "execution_count": 54,
     "metadata": {},
     "output_type": "execute_result"
    }
   ],
   "source": [
    "train_data"
   ]
  },
  {
   "cell_type": "code",
   "execution_count": 55,
   "id": "a37d9025",
   "metadata": {},
   "outputs": [
    {
     "data": {
      "text/html": [
       "<div>\n",
       "<style scoped>\n",
       "    .dataframe tbody tr th:only-of-type {\n",
       "        vertical-align: middle;\n",
       "    }\n",
       "\n",
       "    .dataframe tbody tr th {\n",
       "        vertical-align: top;\n",
       "    }\n",
       "\n",
       "    .dataframe thead th {\n",
       "        text-align: right;\n",
       "    }\n",
       "</style>\n",
       "<table border=\"1\" class=\"dataframe\">\n",
       "  <thead>\n",
       "    <tr style=\"text-align: right;\">\n",
       "      <th></th>\n",
       "      <th>sentiment</th>\n",
       "      <th>content</th>\n",
       "    </tr>\n",
       "  </thead>\n",
       "  <tbody>\n",
       "    <tr>\n",
       "      <th>37839</th>\n",
       "      <td>1</td>\n",
       "      <td>geekysteph also try friendly fire already hear...</td>\n",
       "    </tr>\n",
       "    <tr>\n",
       "      <th>5442</th>\n",
       "      <td>0</td>\n",
       "      <td>need get life together aka apartment cleaned b...</td>\n",
       "    </tr>\n",
       "    <tr>\n",
       "      <th>21094</th>\n",
       "      <td>1</td>\n",
       "      <td>souravghosh dream give rise reality said walk ...</td>\n",
       "    </tr>\n",
       "    <tr>\n",
       "      <th>28755</th>\n",
       "      <td>1</td>\n",
       "      <td>lilcdawg run cpt</td>\n",
       "    </tr>\n",
       "    <tr>\n",
       "      <th>6382</th>\n",
       "      <td>0</td>\n",
       "      <td>computer work hate me call tech support again</td>\n",
       "    </tr>\n",
       "    <tr>\n",
       "      <th>...</th>\n",
       "      <td>...</td>\n",
       "      <td>...</td>\n",
       "    </tr>\n",
       "    <tr>\n",
       "      <th>14367</th>\n",
       "      <td>0</td>\n",
       "      <td>sad cant go friend house</td>\n",
       "    </tr>\n",
       "    <tr>\n",
       "      <th>37238</th>\n",
       "      <td>1</td>\n",
       "      <td>photo thelovelybones spy jonas brother demi lo...</td>\n",
       "    </tr>\n",
       "    <tr>\n",
       "      <th>5364</th>\n",
       "      <td>0</td>\n",
       "      <td>nettagyrl make sad follow someone converse sim...</td>\n",
       "    </tr>\n",
       "    <tr>\n",
       "      <th>14741</th>\n",
       "      <td>1</td>\n",
       "      <td>back home bathing kid ironing clothes hubby ne...</td>\n",
       "    </tr>\n",
       "    <tr>\n",
       "      <th>22804</th>\n",
       "      <td>1</td>\n",
       "      <td>salute chapel hill north carolina sy http blip...</td>\n",
       "    </tr>\n",
       "  </tbody>\n",
       "</table>\n",
       "<p>2075 rows × 2 columns</p>\n",
       "</div>"
      ],
      "text/plain": [
       "       sentiment                                            content\n",
       "37839          1  geekysteph also try friendly fire already hear...\n",
       "5442           0  need get life together aka apartment cleaned b...\n",
       "21094          1  souravghosh dream give rise reality said walk ...\n",
       "28755          1                                   lilcdawg run cpt\n",
       "6382           0      computer work hate me call tech support again\n",
       "...          ...                                                ...\n",
       "14367          0                           sad cant go friend house\n",
       "37238          1  photo thelovelybones spy jonas brother demi lo...\n",
       "5364           0  nettagyrl make sad follow someone converse sim...\n",
       "14741          1  back home bathing kid ironing clothes hubby ne...\n",
       "22804          1  salute chapel hill north carolina sy http blip...\n",
       "\n",
       "[2075 rows x 2 columns]"
      ]
     },
     "execution_count": 55,
     "metadata": {},
     "output_type": "execute_result"
    }
   ],
   "source": [
    "test_data"
   ]
  },
  {
   "cell_type": "markdown",
   "id": "aa9fd800",
   "metadata": {},
   "source": [
    "## <b>Step4:-Feature Engineering"
   ]
  },
  {
   "cell_type": "code",
   "execution_count": 56,
   "id": "efea7b43",
   "metadata": {},
   "outputs": [],
   "source": [
    "X_train = train_data['content'].values\n",
    "y_train = train_data['sentiment'].values\n",
    "\n",
    "X_test = test_data['content'].values\n",
    "y_test = test_data['sentiment'].values"
   ]
  },
  {
   "cell_type": "code",
   "execution_count": 57,
   "id": "4b173794",
   "metadata": {},
   "outputs": [],
   "source": [
    "# Apply Bag of Words (CountVectorizer)\n",
    "vectorizer = CountVectorizer()\n",
    "\n",
    "# Fit the vectorizer on the training data and transform it\n",
    "X_train_bow = vectorizer.fit_transform(X_train)\n",
    "\n",
    "# Transform the test data using the same vectorizer\n",
    "X_test_bow = vectorizer.transform(X_test)"
   ]
  },
  {
   "cell_type": "code",
   "execution_count": 58,
   "id": "fc5cca2a",
   "metadata": {},
   "outputs": [
    {
     "data": {
      "text/html": [
       "<div>\n",
       "<style scoped>\n",
       "    .dataframe tbody tr th:only-of-type {\n",
       "        vertical-align: middle;\n",
       "    }\n",
       "\n",
       "    .dataframe tbody tr th {\n",
       "        vertical-align: top;\n",
       "    }\n",
       "\n",
       "    .dataframe thead th {\n",
       "        text-align: right;\n",
       "    }\n",
       "</style>\n",
       "<table border=\"1\" class=\"dataframe\">\n",
       "  <thead>\n",
       "    <tr style=\"text-align: right;\">\n",
       "      <th></th>\n",
       "      <th>0</th>\n",
       "      <th>1</th>\n",
       "      <th>2</th>\n",
       "      <th>3</th>\n",
       "      <th>4</th>\n",
       "      <th>5</th>\n",
       "      <th>6</th>\n",
       "      <th>7</th>\n",
       "      <th>8</th>\n",
       "      <th>9</th>\n",
       "      <th>...</th>\n",
       "      <th>14212</th>\n",
       "      <th>14213</th>\n",
       "      <th>14214</th>\n",
       "      <th>14215</th>\n",
       "      <th>14216</th>\n",
       "      <th>14217</th>\n",
       "      <th>14218</th>\n",
       "      <th>14219</th>\n",
       "      <th>14220</th>\n",
       "      <th>label</th>\n",
       "    </tr>\n",
       "  </thead>\n",
       "  <tbody>\n",
       "    <tr>\n",
       "      <th>0</th>\n",
       "      <td>0</td>\n",
       "      <td>0</td>\n",
       "      <td>0</td>\n",
       "      <td>0</td>\n",
       "      <td>0</td>\n",
       "      <td>0</td>\n",
       "      <td>0</td>\n",
       "      <td>0</td>\n",
       "      <td>0</td>\n",
       "      <td>0</td>\n",
       "      <td>...</td>\n",
       "      <td>0</td>\n",
       "      <td>0</td>\n",
       "      <td>0</td>\n",
       "      <td>0</td>\n",
       "      <td>0</td>\n",
       "      <td>0</td>\n",
       "      <td>0</td>\n",
       "      <td>0</td>\n",
       "      <td>0</td>\n",
       "      <td>0</td>\n",
       "    </tr>\n",
       "    <tr>\n",
       "      <th>1</th>\n",
       "      <td>0</td>\n",
       "      <td>0</td>\n",
       "      <td>0</td>\n",
       "      <td>0</td>\n",
       "      <td>0</td>\n",
       "      <td>0</td>\n",
       "      <td>0</td>\n",
       "      <td>0</td>\n",
       "      <td>0</td>\n",
       "      <td>0</td>\n",
       "      <td>...</td>\n",
       "      <td>0</td>\n",
       "      <td>0</td>\n",
       "      <td>0</td>\n",
       "      <td>0</td>\n",
       "      <td>0</td>\n",
       "      <td>0</td>\n",
       "      <td>0</td>\n",
       "      <td>0</td>\n",
       "      <td>0</td>\n",
       "      <td>0</td>\n",
       "    </tr>\n",
       "    <tr>\n",
       "      <th>2</th>\n",
       "      <td>0</td>\n",
       "      <td>0</td>\n",
       "      <td>0</td>\n",
       "      <td>0</td>\n",
       "      <td>0</td>\n",
       "      <td>0</td>\n",
       "      <td>0</td>\n",
       "      <td>0</td>\n",
       "      <td>0</td>\n",
       "      <td>0</td>\n",
       "      <td>...</td>\n",
       "      <td>0</td>\n",
       "      <td>0</td>\n",
       "      <td>0</td>\n",
       "      <td>0</td>\n",
       "      <td>0</td>\n",
       "      <td>0</td>\n",
       "      <td>0</td>\n",
       "      <td>0</td>\n",
       "      <td>0</td>\n",
       "      <td>1</td>\n",
       "    </tr>\n",
       "    <tr>\n",
       "      <th>3</th>\n",
       "      <td>0</td>\n",
       "      <td>0</td>\n",
       "      <td>0</td>\n",
       "      <td>0</td>\n",
       "      <td>0</td>\n",
       "      <td>0</td>\n",
       "      <td>0</td>\n",
       "      <td>0</td>\n",
       "      <td>0</td>\n",
       "      <td>0</td>\n",
       "      <td>...</td>\n",
       "      <td>0</td>\n",
       "      <td>0</td>\n",
       "      <td>0</td>\n",
       "      <td>0</td>\n",
       "      <td>0</td>\n",
       "      <td>0</td>\n",
       "      <td>0</td>\n",
       "      <td>0</td>\n",
       "      <td>0</td>\n",
       "      <td>0</td>\n",
       "    </tr>\n",
       "    <tr>\n",
       "      <th>4</th>\n",
       "      <td>0</td>\n",
       "      <td>0</td>\n",
       "      <td>0</td>\n",
       "      <td>0</td>\n",
       "      <td>0</td>\n",
       "      <td>0</td>\n",
       "      <td>0</td>\n",
       "      <td>0</td>\n",
       "      <td>0</td>\n",
       "      <td>0</td>\n",
       "      <td>...</td>\n",
       "      <td>0</td>\n",
       "      <td>0</td>\n",
       "      <td>0</td>\n",
       "      <td>0</td>\n",
       "      <td>0</td>\n",
       "      <td>0</td>\n",
       "      <td>0</td>\n",
       "      <td>0</td>\n",
       "      <td>0</td>\n",
       "      <td>1</td>\n",
       "    </tr>\n",
       "  </tbody>\n",
       "</table>\n",
       "<p>5 rows × 14222 columns</p>\n",
       "</div>"
      ],
      "text/plain": [
       "   0  1  2  3  4  5  6  7  8  9  ...  14212  14213  14214  14215  14216  \\\n",
       "0  0  0  0  0  0  0  0  0  0  0  ...      0      0      0      0      0   \n",
       "1  0  0  0  0  0  0  0  0  0  0  ...      0      0      0      0      0   \n",
       "2  0  0  0  0  0  0  0  0  0  0  ...      0      0      0      0      0   \n",
       "3  0  0  0  0  0  0  0  0  0  0  ...      0      0      0      0      0   \n",
       "4  0  0  0  0  0  0  0  0  0  0  ...      0      0      0      0      0   \n",
       "\n",
       "   14217  14218  14219  14220  label  \n",
       "0      0      0      0      0      0  \n",
       "1      0      0      0      0      0  \n",
       "2      0      0      0      0      1  \n",
       "3      0      0      0      0      0  \n",
       "4      0      0      0      0      1  \n",
       "\n",
       "[5 rows x 14222 columns]"
      ]
     },
     "execution_count": 58,
     "metadata": {},
     "output_type": "execute_result"
    }
   ],
   "source": [
    "train_df = pd.DataFrame(X_train_bow.toarray())\n",
    "\n",
    "train_df['label'] = y_train\n",
    "train_df.head()"
   ]
  },
  {
   "cell_type": "markdown",
   "id": "22e76071",
   "metadata": {},
   "source": [
    "## <b>Step5:-Model Building"
   ]
  },
  {
   "cell_type": "code",
   "execution_count": 64,
   "id": "7965bd86",
   "metadata": {},
   "outputs": [
    {
     "name": "stderr",
     "output_type": "stream",
     "text": [
      "c:\\Users\\pande\\miniconda3\\envs\\env_for_GenAi\\Lib\\site-packages\\xgboost\\training.py:183: UserWarning: [10:20:07] WARNING: C:\\actions-runner\\_work\\xgboost\\xgboost\\src\\learner.cc:738: \n",
      "Parameters: { \"use_label_encoder\" } are not used.\n",
      "\n",
      "  bst.update(dtrain, iteration=i, fobj=obj)\n"
     ]
    },
    {
     "name": "stdout",
     "output_type": "stream",
     "text": [
      "Accuracy: 0.776867469879518\n",
      "Classification Report:\n",
      "               precision    recall  f1-score   support\n",
      "\n",
      "           0       0.75      0.84      0.79      1041\n",
      "           1       0.81      0.72      0.76      1034\n",
      "\n",
      "    accuracy                           0.78      2075\n",
      "   macro avg       0.78      0.78      0.78      2075\n",
      "weighted avg       0.78      0.78      0.78      2075\n",
      "\n"
     ]
    }
   ],
   "source": [
    "# Define and train the XGBoost model\n",
    "xgb_model = xgb.XGBClassifier(use_label_encoder=False, eval_metric='mlogloss')\n",
    "xgb_model.fit(X_train_bow, y_train)\n",
    "\n",
    "# Make predictions\n",
    "y_pred = xgb_model.predict(X_test_bow)\n",
    "\n",
    "# Evaluate the model\n",
    "accuracy = accuracy_score(y_test, y_pred)\n",
    "classification_rep = classification_report(y_test, y_pred)\n",
    "\n",
    "print(\"Accuracy:\", accuracy)\n",
    "print(\"Classification Report:\\n\", classification_rep)"
   ]
  },
  {
   "cell_type": "markdown",
   "id": "fa5ff552",
   "metadata": {},
   "source": [
    "## <b>Step6:-Model Evaluation"
   ]
  },
  {
   "cell_type": "code",
   "execution_count": 65,
   "id": "fd18dc98",
   "metadata": {},
   "outputs": [],
   "source": [
    "# Make predictions\n",
    "y_pred = xgb_model.predict(X_test_bow)\n",
    "y_pred_proba = xgb_model.predict_proba(X_test_bow)[:, 1]\n",
    "\n",
    "# Calculate evaluation metrics\n",
    "precision = precision_score(y_test, y_pred)\n",
    "recall = recall_score(y_test, y_pred)\n",
    "auc = roc_auc_score(y_test, y_pred_proba)"
   ]
  },
  {
   "cell_type": "markdown",
   "id": "0c1f3177",
   "metadata": {},
   "source": []
  },
  {
   "cell_type": "code",
   "execution_count": 66,
   "id": "a4d6fce2",
   "metadata": {},
   "outputs": [
    {
     "name": "stdout",
     "output_type": "stream",
     "text": [
      "Precision: 0.8140814081408141\n",
      "Recall: 0.7156673114119922\n",
      "AUC: 0.8627514646124002\n"
     ]
    }
   ],
   "source": [
    "print(f\"Precision: {precision}\")\n",
    "print(f\"Recall: {recall}\")\n",
    "print(f\"AUC: {auc}\")"
   ]
  },
  {
   "cell_type": "code",
   "execution_count": null,
   "id": "b3896c78",
   "metadata": {},
   "outputs": [],
   "source": []
  }
 ],
 "metadata": {
  "kernelspec": {
   "display_name": "env_for_GenAi",
   "language": "python",
   "name": "python3"
  },
  "language_info": {
   "codemirror_mode": {
    "name": "ipython",
    "version": 3
   },
   "file_extension": ".py",
   "mimetype": "text/x-python",
   "name": "python",
   "nbconvert_exporter": "python",
   "pygments_lexer": "ipython3",
   "version": "3.13.5"
  }
 },
 "nbformat": 4,
 "nbformat_minor": 5
}
