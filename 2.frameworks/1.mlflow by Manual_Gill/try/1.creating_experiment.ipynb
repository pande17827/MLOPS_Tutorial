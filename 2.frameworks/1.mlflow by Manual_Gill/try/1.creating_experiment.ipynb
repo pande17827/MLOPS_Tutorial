{
 "cells": [
  {
   "cell_type": "markdown",
   "id": "ac2c4af2",
   "metadata": {},
   "source": [
    "# <b>We will use MLFLOW SDK for simplicity"
   ]
  },
  {
   "cell_type": "markdown",
   "id": "408af2c9",
   "metadata": {},
   "source": [
    "creawting path object"
   ]
  },
  {
   "cell_type": "code",
   "execution_count": 2,
   "id": "1cbac11f",
   "metadata": {},
   "outputs": [
    {
     "name": "stdout",
     "output_type": "stream",
     "text": [
      "<class 'pathlib._local.WindowsPath'>\n"
     ]
    }
   ],
   "source": [
    "from pathlib import Path\n",
    "mflow_artifact_path=Path(r\"E:\\pandey\\learning\\data science\\9.mlops\\MLOPS_Tutorial\\2.frameworks\\1.mlflow by Manual_Gill\\try\\mlruns_folder\")\n",
    "print(type(mflow_artifact_path))"
   ]
  },
  {
   "cell_type": "code",
   "execution_count": 3,
   "id": "b6469092",
   "metadata": {},
   "outputs": [
    {
     "data": {
      "text/plain": [
       "'file:///E:/pandey/learning/data%20science/9.mlops/MLOPS_Tutorial/2.frameworks/1.mlflow%20by%20Manual_Gill/try/mlruns_folder'"
      ]
     },
     "execution_count": 3,
     "metadata": {},
     "output_type": "execute_result"
    }
   ],
   "source": [
    "mflow_artifact_path_in_MLFLOW_format=mflow_artifact_path.as_uri()\n",
    "mflow_artifact_path_in_MLFLOW_format"
   ]
  },
  {
   "cell_type": "markdown",
   "id": "20b4497f",
   "metadata": {},
   "source": [
    "setting tracking uri"
   ]
  },
  {
   "cell_type": "code",
   "execution_count": 4,
   "id": "2111b58d",
   "metadata": {},
   "outputs": [],
   "source": [
    "import mlflow\n",
    "mlflow.set_tracking_uri(uri=mflow_artifact_path_in_MLFLOW_format)"
   ]
  },
  {
   "cell_type": "markdown",
   "id": "2e73ba16",
   "metadata": {},
   "source": [
    "creating experiment"
   ]
  },
  {
   "cell_type": "code",
   "execution_count": 5,
   "id": "c22e3ec8",
   "metadata": {},
   "outputs": [],
   "source": [
    "experiment_id=mlflow.create_experiment(\n",
    "    name=\"first_experiment_using_MLFLOW_SDK\",\n",
    "    tags={\n",
    "    \"topic\":\"experiment-management\",\n",
    "    \"version\": \"v1\"}\n",
    "\n",
    "    )"
   ]
  },
  {
   "cell_type": "code",
   "execution_count": 6,
   "id": "b388e85e",
   "metadata": {},
   "outputs": [
    {
     "data": {
      "text/plain": [
       "'830581414928407917'"
      ]
     },
     "execution_count": 6,
     "metadata": {},
     "output_type": "execute_result"
    }
   ],
   "source": [
    "experiment_id"
   ]
  },
  {
   "cell_type": "markdown",
   "id": "38e9feaa",
   "metadata": {},
   "source": [
    "seting active experiment"
   ]
  },
  {
   "cell_type": "code",
   "execution_count": 7,
   "id": "7a259db4",
   "metadata": {},
   "outputs": [
    {
     "data": {
      "text/plain": [
       "<Experiment: artifact_location='file:///E:/pandey/learning/data%20science/9.mlops/MLOPS_Tutorial/2.frameworks/1.mlflow%20by%20Manual_Gill/try/mlruns_folder/830581414928407917', creation_time=1756531350940, experiment_id='830581414928407917', last_update_time=1756531350940, lifecycle_stage='active', name='first_experiment_using_MLFLOW_SDK', tags={'topic': 'experiment-management', 'version': 'v1'}>"
      ]
     },
     "execution_count": 7,
     "metadata": {},
     "output_type": "execute_result"
    }
   ],
   "source": [
    "mlflow.set_experiment(experiment_name=\"first_experiment_using_MLFLOW_SDK\")"
   ]
  }
 ],
 "metadata": {
  "kernelspec": {
   "display_name": "env_for_GenAi",
   "language": "python",
   "name": "python3"
  },
  "language_info": {
   "codemirror_mode": {
    "name": "ipython",
    "version": 3
   },
   "file_extension": ".py",
   "mimetype": "text/x-python",
   "name": "python",
   "nbconvert_exporter": "python",
   "pygments_lexer": "ipython3",
   "version": "3.13.5"
  }
 },
 "nbformat": 4,
 "nbformat_minor": 5
}
