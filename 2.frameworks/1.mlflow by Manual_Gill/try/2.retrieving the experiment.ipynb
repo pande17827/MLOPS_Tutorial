{
 "cells": [
  {
   "cell_type": "code",
   "execution_count": 1,
   "id": "ca680283",
   "metadata": {},
   "outputs": [
    {
     "name": "stdout",
     "output_type": "stream",
     "text": [
      "<class 'pathlib._local.WindowsPath'>\n"
     ]
    }
   ],
   "source": [
    "from pathlib import Path\n",
    "mflow_artifact_path=Path(r\"E:\\pandey\\learning\\data science\\9.mlops\\MLOPS_Tutorial\\2.frameworks\\1.mlflow by Manual_Gill\\try\\mlruns_folder\")\n",
    "print(type(mflow_artifact_path))"
   ]
  },
  {
   "cell_type": "code",
   "execution_count": 2,
   "id": "b86a28fe",
   "metadata": {},
   "outputs": [
    {
     "data": {
      "text/plain": [
       "'file:///E:/pandey/learning/data%20science/9.mlops/MLOPS_Tutorial/2.frameworks/1.mlflow%20by%20Manual_Gill/try/mlruns_folder'"
      ]
     },
     "execution_count": 2,
     "metadata": {},
     "output_type": "execute_result"
    }
   ],
   "source": [
    "mflow_artifact_path_in_MLFLOW_format=mflow_artifact_path.as_uri()\n",
    "mflow_artifact_path_in_MLFLOW_format"
   ]
  },
  {
   "cell_type": "code",
   "execution_count": 3,
   "id": "9cddadff",
   "metadata": {},
   "outputs": [],
   "source": [
    "import mlflow\n",
    "mlflow.set_tracking_uri(uri=mflow_artifact_path_in_MLFLOW_format)"
   ]
  },
  {
   "cell_type": "code",
   "execution_count": 4,
   "id": "42b24138",
   "metadata": {},
   "outputs": [
    {
     "data": {
      "text/plain": [
       "<Experiment: artifact_location='file:///E:/pandey/learning/data%20science/9.mlops/MLOPS_Tutorial/2.frameworks/1.mlflow%20by%20Manual_Gill/try/mlruns_folder/830581414928407917', creation_time=1756531350940, experiment_id='830581414928407917', last_update_time=1756531350940, lifecycle_stage='active', name='first_experiment_using_MLFLOW_SDK', tags={'topic': 'experiment-management', 'version': 'v1'}>"
      ]
     },
     "execution_count": 4,
     "metadata": {},
     "output_type": "execute_result"
    }
   ],
   "source": [
    "mlflow.set_experiment(experiment_name=\"first_experiment_using_MLFLOW_SDK\")"
   ]
  },
  {
   "cell_type": "code",
   "execution_count": 5,
   "id": "b8f768ea",
   "metadata": {},
   "outputs": [
    {
     "data": {
      "text/plain": [
       "<Experiment: artifact_location='file:///E:/pandey/learning/data%20science/9.mlops/MLOPS_Tutorial/2.frameworks/1.mlflow%20by%20Manual_Gill/try/mlruns_folder/830581414928407917', creation_time=1756531350940, experiment_id='830581414928407917', last_update_time=1756531350940, lifecycle_stage='active', name='first_experiment_using_MLFLOW_SDK', tags={'topic': 'experiment-management', 'version': 'v1'}>"
      ]
     },
     "execution_count": 5,
     "metadata": {},
     "output_type": "execute_result"
    }
   ],
   "source": [
    "mlflow.get_experiment_by_name(name=\"first_experiment_using_MLFLOW_SDK\")"
   ]
  },
  {
   "cell_type": "code",
   "execution_count": 6,
   "id": "9712936b",
   "metadata": {},
   "outputs": [
    {
     "data": {
      "text/plain": [
       "<Experiment: artifact_location='file:///E:/pandey/learning/data%20science/9.mlops/MLOPS_Tutorial/2.frameworks/1.mlflow%20by%20Manual_Gill/try/mlruns_folder/830581414928407917', creation_time=1756531350940, experiment_id='830581414928407917', last_update_time=1756531350940, lifecycle_stage='active', name='first_experiment_using_MLFLOW_SDK', tags={'topic': 'experiment-management', 'version': 'v1'}>"
      ]
     },
     "execution_count": 6,
     "metadata": {},
     "output_type": "execute_result"
    }
   ],
   "source": [
    "experiment=mlflow.get_experiment_by_name(name=\"first_experiment_using_MLFLOW_SDK\")\n",
    "experiment"
   ]
  },
  {
   "cell_type": "code",
   "execution_count": 8,
   "id": "2c3c6ae1",
   "metadata": {},
   "outputs": [
    {
     "name": "stdout",
     "output_type": "stream",
     "text": [
      "experiment_id= 830581414928407917\n",
      "experiment name= first_experiment_using_MLFLOW_SDK\n",
      "artifact_location= file:///E:/pandey/learning/data%20science/9.mlops/MLOPS_Tutorial/2.frameworks/1.mlflow%20by%20Manual_Gill/try/mlruns_folder/830581414928407917\n",
      "lifecycle_stage= active\n",
      "tags= {'topic': 'experiment-management', 'version': 'v1'}\n"
     ]
    }
   ],
   "source": [
    "print(\"experiment_id=\",experiment.experiment_id)\n",
    "print(\"experiment name=\",experiment.name)\n",
    "print(\"artifact_location=\",experiment.artifact_location)\n",
    "print(\"lifecycle_stage=\",experiment.lifecycle_stage)\n",
    "print(\"tags=\",experiment.tags)"
   ]
  },
  {
   "cell_type": "code",
   "execution_count": 9,
   "id": "912109c0",
   "metadata": {},
   "outputs": [
    {
     "data": {
      "text/plain": [
       "experiment_id: \"830581414928407917\"\n",
       "name: \"first_experiment_using_MLFLOW_SDK\"\n",
       "artifact_location: \"file:///E:/pandey/learning/data%20science/9.mlops/MLOPS_Tutorial/2.frameworks/1.mlflow%20by%20Manual_Gill/try/mlruns_folder/830581414928407917\"\n",
       "lifecycle_stage: \"active\"\n",
       "last_update_time: 1756531350940\n",
       "creation_time: 1756531350940\n",
       "tags {\n",
       "  key: \"topic\"\n",
       "  value: \"experiment-management\"\n",
       "}\n",
       "tags {\n",
       "  key: \"version\"\n",
       "  value: \"v1\"\n",
       "}"
      ]
     },
     "execution_count": 9,
     "metadata": {},
     "output_type": "execute_result"
    }
   ],
   "source": [
    "experiment.to_proto()"
   ]
  },
  {
   "cell_type": "code",
   "execution_count": 10,
   "id": "7d5f5aa5",
   "metadata": {},
   "outputs": [
    {
     "data": {
      "text/plain": [
       "\"<Experiment: artifact_location='file:///E:/pandey/learning/data%20science/9.mlops/MLOPS_Tutorial/2.frameworks/1.mlflow%20by%20Manual_Gill/try/mlruns_folder/830581414928407917', creation_time=1756531350940, experiment_id='830581414928407917', last_update_time=1756531350940, lifecycle_stage='active', name='first_experiment_using_MLFLOW_SDK', tags={'topic': 'experiment-management', 'version': 'v1'}>\""
      ]
     },
     "execution_count": 10,
     "metadata": {},
     "output_type": "execute_result"
    }
   ],
   "source": [
    "experiment.__repr__()"
   ]
  }
 ],
 "metadata": {
  "kernelspec": {
   "display_name": "env_for_GenAi",
   "language": "python",
   "name": "python3"
  },
  "language_info": {
   "codemirror_mode": {
    "name": "ipython",
    "version": 3
   },
   "file_extension": ".py",
   "mimetype": "text/x-python",
   "name": "python",
   "nbconvert_exporter": "python",
   "pygments_lexer": "ipython3",
   "version": "3.13.5"
  }
 },
 "nbformat": 4,
 "nbformat_minor": 5
}
