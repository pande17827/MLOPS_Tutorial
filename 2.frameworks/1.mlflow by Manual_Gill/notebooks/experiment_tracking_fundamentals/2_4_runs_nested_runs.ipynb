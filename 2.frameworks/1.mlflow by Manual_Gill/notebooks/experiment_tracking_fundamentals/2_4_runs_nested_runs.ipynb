{
 "cells": [
  {
   "cell_type": "markdown",
   "metadata": {},
   "source": [
    "# Nested Runs"
   ]
  },
  {
   "cell_type": "code",
   "execution_count": null,
   "metadata": {},
   "outputs": [],
   "source": [
    "import mlflow\n",
    "from mlflow_for_ml_dev.src.utils.folder_operations import get_project_root\n",
    "\n",
    "# set mlflow tracking uri\n",
    "mlflow.set_tracking_uri(uri=(get_project_root() / 'mlruns').as_uri())"
   ]
  },
  {
   "cell_type": "code",
   "execution_count": null,
   "metadata": {},
   "outputs": [],
   "source": [
    "# Before it was necessary to create a nested structure of runs to represent a parent-child relationship between runs.\n",
    "with mlflow.start_run(run_name=\"parent\") as parent_run:\n",
    "    print(\"Parent run_id:\", parent_run.info.run_id)\n",
    "    mlflow.log_param(\"parent_param1\", 2)\n",
    "\n",
    "    with mlflow.start_run(run_name=\"child\", nested=True) as child_run:\n",
    "        print(\"Child run_id:\", child_run.info.run_id)\n",
    "        mlflow.log_param(\"param1\", 1)\n",
    "        mlflow.log_metric(\"metric1\", 2.0)\n",
    "\n",
    "        with mlflow.start_run(run_name=\"grandchild\", nested=True) as grandchild_run:\n",
    "            print(\"Grandchild run_id:\", grandchild_run.info.run_id)\n",
    "            mlflow.log_param(\"param1\", 3)\n",
    "            mlflow.log_metric(\"metric1\", 4.0)"
   ]
  },
  {
   "cell_type": "markdown",
   "metadata": {},
   "source": [
    "## Nested runs using parent run"
   ]
  },
  {
   "cell_type": "code",
   "execution_count": null,
   "metadata": {},
   "outputs": [],
   "source": [
    "# Now, it is possible to create a nested structure of runs using parent_run_id parameter.\n",
    "with mlflow.start_run(run_name=\"parent\") as parent_run:\n",
    "    print(\"Parent run_id:\", parent_run.info.run_id)\n",
    "    mlflow.log_param(\"parent_param1\", 2)\n",
    "\n",
    "with mlflow.start_run(run_name=\"child\", parent_run_id=parent_run.info.run_id) as child_run:\n",
    "    print(\"Child run_id:\", child_run.info.run_id)\n",
    "    mlflow.log_param(\"param1\", 1)\n",
    "    mlflow.log_metric(\"metric1\", 2.0)\n",
    "\n",
    "with mlflow.start_run(run_name=\"grandchild\", parent_run_id=child_run.info.run_id) as grandchild_run:\n",
    "    print(\"Grandchild run_id:\", grandchild_run.info.run_id)\n",
    "    mlflow.log_param(\"param1\", 3)\n",
    "    mlflow.log_metric(\"metric1\", 4.0)"
   ]
  },
  {
   "cell_type": "code",
   "execution_count": null,
   "metadata": {},
   "outputs": [],
   "source": []
  }
 ],
 "metadata": {
  "kernelspec": {
   "display_name": ".venv",
   "language": "python",
   "name": "python3"
  },
  "language_info": {
   "codemirror_mode": {
    "name": "ipython",
    "version": 3
   },
   "file_extension": ".py",
   "mimetype": "text/x-python",
   "name": "python",
   "nbconvert_exporter": "python",
   "pygments_lexer": "ipython3",
   "version": "3.11.8"
  }
 },
 "nbformat": 4,
 "nbformat_minor": 2
}
